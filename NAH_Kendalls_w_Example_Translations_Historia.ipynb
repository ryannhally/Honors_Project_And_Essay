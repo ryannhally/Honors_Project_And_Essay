{
  "nbformat": 4,
  "nbformat_minor": 0,
  "metadata": {
    "colab": {
      "provenance": [],
      "collapsed_sections": [
        "UVL6kQTIZs-o"
      ],
      "authorship_tag": "ABX9TyOO0Shh/Ftw7G6a1z8Ub2wl",
      "include_colab_link": true
    },
    "kernelspec": {
      "name": "python3",
      "display_name": "Python 3"
    },
    "language_info": {
      "name": "python"
    }
  },
  "cells": [
    {
      "cell_type": "markdown",
      "metadata": {
        "id": "view-in-github",
        "colab_type": "text"
      },
      "source": [
        "<a href=\"https://colab.research.google.com/github/ryannhally/Honors_Project_And_Essay/blob/main/NAH_Kendalls_w_Example_Translations_Historia.ipynb\" target=\"_parent\"><img src=\"https://colab.research.google.com/assets/colab-badge.svg\" alt=\"Open In Colab\"/></a>"
      ]
    },
    {
      "cell_type": "code",
      "execution_count": null,
      "metadata": {
        "id": "0XKfAlcKQ9r-"
      },
      "outputs": [],
      "source": [
        "#Libraries\n",
        "import numpy as np\n",
        "import pandas as pd\n",
        "from scipy.stats import kendalltau"
      ]
    },
    {
      "cell_type": "markdown",
      "source": [
        "# Sousa Ranking vs. Bleu"
      ],
      "metadata": {
        "id": "UVL6kQTIZs-o"
      }
    },
    {
      "cell_type": "code",
      "source": [
        "# Read spreadsheet\n",
        "df = pd.read_excel(\"sousa_v_bleu_historia.xlsx\")"
      ],
      "metadata": {
        "id": "qpX-5ByaRE-g"
      },
      "execution_count": null,
      "outputs": []
    },
    {
      "cell_type": "code",
      "source": [
        "# Put numbers in two lists\n",
        "\n",
        "sousa_list = []\n",
        "bleu_list = []\n",
        "\n",
        "for index, row in df.iterrows():\n",
        "    sousa_list.append(row['Sousa Ranking'])\n",
        "    bleu_list.append(row['Bleu Ranking'])\n"
      ],
      "metadata": {
        "id": "dZQST7i9VoA9"
      },
      "execution_count": null,
      "outputs": []
    },
    {
      "cell_type": "code",
      "source": [
        "# Stores ranking of set of four translations\n",
        "sousa_rank = []\n",
        "bleu_rank = []\n",
        "\n",
        "# Goes through all numbers in eac list, putting set of four in list and then calculating kendall's tau\n",
        "for i in range(0, len(sousa_list), 4):\n",
        "  sousa_rank = sousa_list[i:i+4]\n",
        "  bleu_rank = bleu_list[i:i+4]\n",
        "  #print(\"HERE\")\n",
        "\n",
        "\n",
        "  if len(sousa_rank) == 4:\n",
        "    #print(\"HERE\")\n",
        "    kendall_corr, _ = kendalltau(sousa_rank, bleu_rank)\n",
        "    print(\"Sentences \", i, \"to\", i+4 )\n",
        "    print(kendall_corr)\n",
        "\n"
      ],
      "metadata": {
        "colab": {
          "base_uri": "https://localhost:8080/"
        },
        "id": "I1EW1mk_TF3d",
        "outputId": "e04197f3-67d2-46bb-8df5-e631f1642c51"
      },
      "execution_count": null,
      "outputs": [
        {
          "output_type": "stream",
          "name": "stdout",
          "text": [
            "Sentences  0 to 4\n",
            "-0.18257418583505539\n",
            "Sentences  4 to 8\n",
            "-0.3333333333333334\n",
            "Sentences  8 to 12\n",
            "0.912870929175277\n",
            "Sentences  12 to 16\n",
            "0.25819888974716115\n",
            "Sentences  16 to 20\n",
            "1.0\n"
          ]
        }
      ]
    },
    {
      "cell_type": "markdown",
      "source": [
        "# Sousa ranking vs. chrf"
      ],
      "metadata": {
        "id": "G4_cE_Nhd8PQ"
      }
    },
    {
      "cell_type": "code",
      "source": [
        "# Read spreadsheet\n",
        "df = pd.read_excel(\"sousa_v_chrf_historia.xlsx\")\n",
        "\n",
        "# Put numbers in two lists\n",
        "\n",
        "sousa_list = []\n",
        "bleu_list = []\n",
        "\n",
        "for index, row in df.iterrows():\n",
        "    sousa_list.append(row['Sousa Ranking'])\n",
        "    bleu_list.append(row['Chrf Ranking'])\n",
        "\n",
        "\n",
        "# Calculate kendall's tay coefficients\n",
        "sousa_rank = []\n",
        "bleu_rank = []\n",
        "\n",
        "# Goes through all numbers in eac list, putting set of four in list and then calculating kendall's tau\n",
        "for i in range(0, len(sousa_list), 4):\n",
        "  sousa_rank = sousa_list[i:i+4]\n",
        "  bleu_rank = bleu_list[i:i+4]\n",
        "  #print(\"HERE\")\n",
        "\n",
        "\n",
        "  if len(sousa_rank) == 4:\n",
        "    #print(\"HERE\")\n",
        "    kendall_corr, _ = kendalltau(sousa_rank, bleu_rank)\n",
        "    print(\"Sentences \", i, \"to\", i+4 )\n",
        "    print(kendall_corr)"
      ],
      "metadata": {
        "colab": {
          "base_uri": "https://localhost:8080/"
        },
        "id": "XD29xeVh75nx",
        "outputId": "665d1394-e2fa-439d-f05f-44efb3189be7"
      },
      "execution_count": null,
      "outputs": [
        {
          "output_type": "stream",
          "name": "stdout",
          "text": [
            "Sentences  0 to 4\n",
            "0.18257418583505539\n",
            "Sentences  4 to 8\n",
            "0.6666666666666669\n",
            "Sentences  8 to 12\n",
            "0.912870929175277\n",
            "Sentences  12 to 16\n",
            "0.912870929175277\n",
            "Sentences  16 to 20\n",
            "0.912870929175277\n"
          ]
        }
      ]
    },
    {
      "cell_type": "markdown",
      "source": [
        "# Sousa ranking vs. my metric w/ no brevity penalty"
      ],
      "metadata": {
        "id": "aCJ4vUbpdt1g"
      }
    },
    {
      "cell_type": "code",
      "source": [
        "# Read spreadsheet\n",
        "df = pd.read_excel(\"sousa_v_no_penalty.xlsx\")\n",
        "\n",
        "# Put numbers in two lists\n",
        "\n",
        "sousa_list = []\n",
        "bleu_list = []\n",
        "\n",
        "for index, row in df.iterrows():\n",
        "    sousa_list.append(row['Sousa Ranking'])\n",
        "    bleu_list.append(row['No Penalty Ranking'])\n",
        "\n",
        "\n",
        "# Calculate kendall's tay coefficients\n",
        "sousa_rank = []\n",
        "bleu_rank = []\n",
        "\n",
        "# Goes through all numbers in eac list, putting set of four in list and then calculating kendall's tau\n",
        "for i in range(0, len(sousa_list), 4):\n",
        "  sousa_rank = sousa_list[i:i+4]\n",
        "  bleu_rank = bleu_list[i:i+4]\n",
        "  #print(\"HERE\")\n",
        "\n",
        "\n",
        "  if len(sousa_rank) == 4:\n",
        "    #print(\"HERE\")\n",
        "    kendall_corr, _ = kendalltau(sousa_rank, bleu_rank)\n",
        "    print(\"Sentences \", i, \"to\", i+4 )\n",
        "    print(kendall_corr)"
      ],
      "metadata": {
        "colab": {
          "base_uri": "https://localhost:8080/"
        },
        "id": "H1Go5euseHB3",
        "outputId": "f567a01e-1b49-47d7-e031-85bb20ee7e40"
      },
      "execution_count": null,
      "outputs": [
        {
          "output_type": "stream",
          "name": "stdout",
          "text": [
            "Sentences  0 to 4\n",
            "nan\n",
            "Sentences  4 to 8\n",
            "nan\n",
            "Sentences  8 to 12\n",
            "1.0\n",
            "Sentences  12 to 16\n",
            "1.0\n",
            "Sentences  16 to 20\n",
            "-0.912870929175277\n",
            "Sentences  20 to 24\n",
            "-0.5477225575051662\n",
            "Sentences  24 to 28\n",
            "-0.5477225575051662\n"
          ]
        }
      ]
    },
    {
      "cell_type": "markdown",
      "source": [
        "# Sousa ranking vs. my metric w/ brevity penalty"
      ],
      "metadata": {
        "id": "kna_vBrwdySU"
      }
    },
    {
      "cell_type": "code",
      "source": [
        "# Read spreadsheet\n",
        "df = pd.read_excel(\"sousa_v_brevity_historia.xlsx\")\n",
        "\n",
        "# Put numbers in two lists\n",
        "\n",
        "sousa_list = []\n",
        "bleu_list = []\n",
        "\n",
        "for index, row in df.iterrows():\n",
        "    sousa_list.append(row['Sousa Ranking'])\n",
        "    bleu_list.append(row['Penalty Ranking'])\n",
        "\n",
        "\n",
        "# Calculate kendall's tay coefficients\n",
        "sousa_rank = []\n",
        "bleu_rank = []\n",
        "\n",
        "# Goes through all numbers in eac list, putting set of four in list and then calculating kendall's tau\n",
        "for i in range(0, len(sousa_list), 4):\n",
        "  sousa_rank = sousa_list[i:i+4]\n",
        "  bleu_rank = bleu_list[i:i+4]\n",
        "  #print(\"HERE\")\n",
        "\n",
        "\n",
        "  if len(sousa_rank) == 4:\n",
        "    #print(\"HERE\")\n",
        "    kendall_corr, _ = kendalltau(sousa_rank, bleu_rank)\n",
        "    print(\"Sentences \", i, \"to\", i+4 )\n",
        "    print(kendall_corr)"
      ],
      "metadata": {
        "colab": {
          "base_uri": "https://localhost:8080/"
        },
        "id": "NYFzlbxIeZbJ",
        "outputId": "f437a231-9a6c-4c65-b253-b054945c8188"
      },
      "execution_count": null,
      "outputs": [
        {
          "output_type": "stream",
          "name": "stdout",
          "text": [
            "Sentences  0 to 4\n",
            "0.912870929175277\n",
            "Sentences  4 to 8\n",
            "1.0\n",
            "Sentences  8 to 12\n",
            "0.0\n",
            "Sentences  12 to 16\n",
            "0.18257418583505539\n",
            "Sentences  16 to 20\n",
            "0.912870929175277\n"
          ]
        }
      ]
    },
    {
      "cell_type": "markdown",
      "source": [
        "Sousa ranking vs. my metric chrf formula"
      ],
      "metadata": {
        "id": "URnzM79Wd2oc"
      }
    },
    {
      "cell_type": "code",
      "source": [
        "# Read spreadsheet\n",
        "df = pd.read_excel(\"CHANGE\")\n",
        "\n",
        "# Put numbers in two lists\n",
        "\n",
        "sousa_list = []\n",
        "bleu_list = []\n",
        "\n",
        "for index, row in df.iterrows():\n",
        "    sousa_list.append(row['Sousa Ranking'])\n",
        "    bleu_list.append(row['Bleu Ranking'])\n",
        "\n",
        "\n",
        "# Calculate kendall's tay coefficients\n",
        "sousa_rank = []\n",
        "bleu_rank = []\n",
        "\n",
        "# Goes through all numbers in eac list, putting set of four in list and then calculating kendall's tau\n",
        "for i in range(0, len(sousa_list), 4):\n",
        "  sousa_rank = sousa_list[i:i+4]\n",
        "  bleu_rank = bleu_list[i:i+4]\n",
        "  #print(\"HERE\")\n",
        "\n",
        "\n",
        "  if len(sousa_rank) == 4:\n",
        "    #print(\"HERE\")\n",
        "    kendall_corr, _ = kendalltau(sousa_rank, bleu_rank)\n",
        "    print(\"Sentences \", i, \"to\", i+4 )\n",
        "    print(kendall_corr)"
      ],
      "metadata": {
        "id": "T4WlILo9d6eg"
      },
      "execution_count": null,
      "outputs": []
    },
    {
      "cell_type": "markdown",
      "source": [],
      "metadata": {
        "id": "FzSAdHSud1Ip"
      }
    }
  ]
}